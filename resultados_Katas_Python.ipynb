{
 "cells": [
  {
   "cell_type": "code",
   "execution_count": 1,
   "id": "ea6d1855",
   "metadata": {},
   "outputs": [
    {
     "name": "stdout",
     "output_type": "stream",
     "text": [
      "{'e': 4, 'l': 1, 'r': 3, 'i': 2, 'n': 2, 'o': 2, 'c': 1, 't': 1, 's': 2, 'g': 1}\n"
     ]
    }
   ],
   "source": [
    "# 1. Escribe una función que reciba una cadena de texto como parámetro y devuelva un diccionario con las frecuencias de cada letra en la cadena. Los espacios no deben ser considerados.\n",
    "\n",
    "def cuenta_de_letras (cadena_texto):\n",
    "  lista = list(cadena_texto)\n",
    "\n",
    "  #creacion de la lista aparicion_letras.\n",
    "  \n",
    "  aparicion_letras = []\n",
    "  for letra in lista:\n",
    "      if letra != \" \":\n",
    "         aparicion_letras.append(letra)\n",
    "\n",
    "  #creacion a partir de la lista aparacion_letras de una nueva lista con las letras unicas, y otra segunda lista con el numero de veces que aparecen las letras.\n",
    "\n",
    "  letras_unicas = []\n",
    "  numero_veces = []\n",
    "  for letra in aparicion_letras:\n",
    "      if letra not in letras_unicas:\n",
    "          letras_unicas.append(letra)\n",
    "          numero_veces.append(aparicion_letras.count(letra))\n",
    "\n",
    "  #creacion a partir de estas dos listas de un diccionario con la funcion zip\n",
    "\n",
    "  numero_veces_letras_string = dict(zip(letras_unicas,numero_veces))\n",
    "\n",
    "  return numero_veces_letras_string\n",
    "\n",
    "resultado = cuenta_de_letras (\"el rinoceronte es gris\")\n",
    "print (resultado)"
   ]
  },
  {
   "cell_type": "code",
   "execution_count": null,
   "id": "943e7e4e",
   "metadata": {},
   "outputs": [
    {
     "name": "stdout",
     "output_type": "stream",
     "text": [
      "El resultado de la funcion map despues de convertirla es [2, 4, 6, 8, 10, 12]\n"
     ]
    }
   ],
   "source": [
    "# 2. Dada una lista de números, obtén una nueva lista con el doble de cada valor. Usa la función map()\n",
    "\n",
    "\n",
    "def doble (num):\n",
    "    return num*2\n",
    "numeros = [1,2,3,4,5,6]\n",
    "\n",
    "# aplicacion de la funcion doble a cada elemento de la lista numeros\n",
    "\n",
    "resultado_map = map (doble, numeros)\n",
    "\n",
    "# conversion del objeto map en una lista \n",
    "\n",
    "lista_resultado_map = list (map(doble, numeros))\n",
    "print (f\"El resultado de la funcion map despues de convertirla es {lista_resultado_map}\")"
   ]
  },
  {
   "cell_type": "code",
   "execution_count": null,
   "id": "587b1974",
   "metadata": {},
   "outputs": [
    {
     "name": "stdout",
     "output_type": "stream",
     "text": [
      "La lista de palabras que contienen la palabra \"caballo\" es ['caballo', 'caballodromo', 'caballoterapia']\n"
     ]
    }
   ],
   "source": [
    "# 3. Escribe una función que tome una lista de palabras y una palabra objetivo como parámetros. La función debe devolver una lista con todas las palabras de la lista original que contengan la palabra objetivo.\n",
    "\n",
    "\n",
    "\n",
    "lista_ecuestre = [\"caballo\", \"caballero\",\"cuadra\",\"jinete\", \"caballodromo\", \"establo\", \"montura\", \"caballoterapia\"]\n",
    "\n",
    "\n",
    "def palabra_incluida (lista_ecuestre,caballo):\n",
    "    lista_palabras_caballo = []\n",
    "\n",
    "    # recorremos cada palabra de la lista con el for\n",
    "\n",
    "    for palabra in lista_ecuestre:\n",
    "\n",
    "        # comprobamos si la palabra objetivo esta incluida con el if\n",
    "        \n",
    "        if caballo in palabra:\n",
    "            lista_palabras_caballo.append(palabra)\n",
    "    return lista_palabras_caballo\n",
    "\n",
    "resultado = palabra_incluida(lista_ecuestre, \"caballo\")\n",
    "print (f'La lista de palabras que contienen la palabra \"caballo\" es {resultado}')"
   ]
  },
  {
   "cell_type": "code",
   "execution_count": null,
   "id": "fc057a58",
   "metadata": {},
   "outputs": [
    {
     "name": "stdout",
     "output_type": "stream",
     "text": [
      "El resultado de restar las dos listas es [3, 7, 9]\n"
     ]
    }
   ],
   "source": [
    "# 4. Genera una función que calcule la diferencia entre los valores de dos listas. Usa la función map()\n",
    "\n",
    "def diferencia_listas (a,b):\n",
    "    return a -b\n",
    "\n",
    "lista1 = [4,8,10]\n",
    "lista2 = [1,1,1]\n",
    "\n",
    "# aplicación de la función diferencia_listas a los elementos de ambas listas a través de map\n",
    "# list convierte el objeto map en una lista\n",
    "lista_resultado_map = list(map(diferencia_listas,lista1,lista2))\n",
    "\n",
    "print (f\"El resultado de restar las dos listas es {lista_resultado_map}\")\n"
   ]
  },
  {
   "cell_type": "code",
   "execution_count": null,
   "id": "8f7be948",
   "metadata": {},
   "outputs": [
    {
     "name": "stdout",
     "output_type": "stream",
     "text": [
      "La nota media y la evaluacion son: (4.8, 'Suspenso')\n"
     ]
    }
   ],
   "source": [
    "\n",
    "# 5.  Ecribe una función que tome una lista de números como parámetro y un valor opcional nota_aprobado, que por defecto es 5. La función debe calcular la media de los números en la lista y determinar si la media es mayor o igual \n",
    "# que nota aprobado. Si es así, el estado será \"aprobado\", de lo contrario, será \"suspenso\". La función debe devolver una tupla que contenga la media y el estado.\n",
    "\n",
    "def evaluacion (a,nota_aprobado=5):\n",
    "    media = sum(a) / len(a)\n",
    "    evaluacion = \"\"\n",
    "    if media >= nota_aprobado:\n",
    "\n",
    " # comprobamos si la media alcanza la nota de aprobado   \n",
    "\n",
    "        evaluacion = \"Aprobado\"\n",
    "    else:\n",
    "        evaluacion = \"Suspenso\"    \n",
    "# creación de tupla con la media y el estado    \n",
    "    \n",
    "    return (media, evaluacion)    \n",
    "\n",
    "notas = [3,6,2,8,5]\n",
    "resultado = evaluacion (notas)\n",
    "print (f'La nota media y la evaluacion son: {resultado}')"
   ]
  },
  {
   "cell_type": "code",
   "execution_count": null,
   "id": "a07b2444",
   "metadata": {},
   "outputs": [
    {
     "name": "stdout",
     "output_type": "stream",
     "text": [
      "El resultado de aplicar el 4 factorial es 24\n"
     ]
    }
   ],
   "source": [
    "\n",
    "# 6.  Escribe una función que calcule el factorial de un número de manera recursiva.\n",
    "\n",
    "def fact_num (n):\n",
    "\n",
    "    # caso base\n",
    "    if n ==0:\n",
    "        return 1\n",
    "    else:\n",
    "     \n",
    "        # caso recursivo \n",
    "        \n",
    "        return n * fact_num (n-1)\n",
    "\n",
    "numero = 4\n",
    "resultado = fact_num(numero)\n",
    "print(f'El resultado de aplicar el 4 factorial es {resultado}')"
   ]
  },
  {
   "cell_type": "code",
   "execution_count": null,
   "id": "c89bab20",
   "metadata": {},
   "outputs": [
    {
     "name": "stdout",
     "output_type": "stream",
     "text": [
      "El resultado de convertir la lista de tuplas a lista de strings es ['mar rojo', '3 ganadores']\n"
     ]
    }
   ],
   "source": [
    "# 7. Genera una función que convierta una lista de tuplas a una lista de strings. Usa la función map()\n",
    "\n",
    "lista_tupla = [(\"mar\",\"rojo\"),(3, \"ganadores\")]\n",
    "\n",
    "def conversion_tupla (tupla):\n",
    "\n",
    "    # conversion de los elementos de la tupla a string \n",
    "    return str (tupla[0]) + \" \" +str (tupla[1])\n",
    "# con map aplicamos la funcion a cada tupla y conversion del resultado a lista\n",
    "\n",
    "lista_strings = list(map(conversion_tupla, lista_tupla))\n",
    "\n",
    "print (f\"El resultado de convertir la lista de tuplas a lista de strings es {lista_strings}\")"
   ]
  },
  {
   "cell_type": "code",
   "execution_count": null,
   "id": "3c5df170",
   "metadata": {},
   "outputs": [
    {
     "name": "stdout",
     "output_type": "stream",
     "text": [
      "El resultado de la division es: 2.0\n"
     ]
    }
   ],
   "source": [
    "# 8.  Escribe un programa que pida al usuario dos números e intente dividirlos. Si el usuario ingresa un valor no numérico o intenta dividir por cero, maneja esas excepciones de manera adecuada. \n",
    "# Asegúrate de mostrar un mensaje indicando si la división fue exitosa o no.\n",
    "\n",
    "peticion_1erNumero = input (\"Introduce el primero de dos numeros para posteriormente realizar una division\")\n",
    "peticion_2ndoNumero = input (\"Introduce el segundo numero de la division\")\n",
    "\n",
    "# comprobacion de valores enteros positivos\n",
    "\n",
    "if peticion_1erNumero.isdigit() and peticion_2ndoNumero.isdigit():\n",
    "    peticion_1erNumero = int(peticion_1erNumero)\n",
    "    peticion_2ndoNumero = int(peticion_2ndoNumero)\n",
    "      \n",
    "     # evitar la división por cero \n",
    "    if peticion_2ndoNumero !=0:\n",
    "        resultado = peticion_1erNumero / peticion_2ndoNumero\n",
    "        print(f\"El resultado de la division es: {resultado}\")\n",
    "\n",
    "    else:\n",
    "        print(f\"No se puede dividir entre cero\")\n",
    "else:\n",
    "    print (f\"Al menos uno de los dos valores no es un numero entero positivo\")    "
   ]
  },
  {
   "cell_type": "code",
   "execution_count": null,
   "id": "51e81e4a",
   "metadata": {},
   "outputs": [
    {
     "name": "stdout",
     "output_type": "stream",
     "text": [
      "Las mascotas permitidas en Espana son ['Perro', 'Gato', 'Loro', 'Hamster', 'Caballo']\n"
     ]
    }
   ],
   "source": [
    "\n",
    "# 9.  Escribe una función que tome una lista de nombres de mascotas como parámetro y devuelva una nueva lista excluyendo ciertas mascotas prohibidas en España. \n",
    "# La lista de mascotas a excluir es [\"Mapache\", \"Tigre\", \"Serpiente Pitón\", \"Cocodrilo\", \"Oso\"].Usa la función filter()\n",
    "\n",
    "lista_mascotas = [\"Perro\", \"Gato\", \"Tigre\", \"Loro\", \"Hamster\", \"Mapache\", \"Caballo\",\"Cocodrilo\", \"Serpiente Pitón\", \"Oso\" ]\n",
    "\n",
    "mascotas_ilegales = [\"Mapache\", \"Tigre\", \"Serpiente Pitón\", \"Cocodrilo\", \"Oso\"]\n",
    "\n",
    "def mascotas_legales (mascota):\n",
    "     return mascota not in  mascotas_ilegales\n",
    "\n",
    "# filter aplica la función a cada elemento y conserva solo los permitidos \n",
    "mascotas_permitidas = list(filter(mascotas_legales,lista_mascotas))\n",
    "print(f'Las mascotas permitidas en Espana son {mascotas_permitidas}')\n"
   ]
  },
  {
   "cell_type": "code",
   "execution_count": null,
   "id": "007cec08",
   "metadata": {},
   "outputs": [
    {
     "name": "stdout",
     "output_type": "stream",
     "text": [
      "El promedio es: 4.0\n"
     ]
    }
   ],
   "source": [
    "# 10. Escribe una función que reciba una lista de números y calcule su promedio. Si la lista está vacía, lanza una excepción personalizada y maneja el error adecuadamente.\n",
    "\n",
    "def calculo_promedio(numeros):\n",
    "    # comprovación lista vacía \n",
    "    if numeros == []:\n",
    "        raise ValueError(\"La lista está vacía\")\n",
    "    else:\n",
    "        # cálculo promedio\n",
    "        promedio = sum(numeros) / len(numeros)\n",
    "        return promedio\n",
    "\n",
    "lista_numeros = [2,6,4]\n",
    "\n",
    "try:\n",
    "\n",
    "    # intentar calcular el promedio\n",
    "    resultado = calculo_promedio(lista_numeros)\n",
    "    print(f\"El promedio es: {resultado}\")\n",
    "except ValueError as e:\n",
    "    # manejo de la excepción si la lista está vacía\n",
    "    print(f\"La lista está vacía\")"
   ]
  },
  {
   "cell_type": "code",
   "execution_count": null,
   "id": "33a32dde",
   "metadata": {},
   "outputs": [
    {
     "name": "stdout",
     "output_type": "stream",
     "text": [
      "Gracias por introducir tu edad satisfactoriamente\n"
     ]
    }
   ],
   "source": [
    "# 11. Escribe un programa que pida al usuario que introduzca su edad. \n",
    "# Si el usuario ingresa un valor no numérico o un valor fuera del rango esperado (por ejemplo, menor que 0 o mayor que 120, maneja las excepciones adecuadamente.\n",
    "\n",
    "try:\n",
    "\n",
    "     # petición d eedad y conversión a entero\n",
    "    peticion_edad = int(input(\"Por favor, introduce tu edad: \"))\n",
    "     # comprobación rango válido\n",
    "    if peticion_edad > 0 and peticion_edad <120:\n",
    "        print(\"Gracias por introducir tu edad satisfactoriamente\")\n",
    "    else:\n",
    "        print(\"El valor introducido no es un valor permitido\")\n",
    "except ValueError:\n",
    "     # manejo del error al no introducir un número \n",
    "    print(\"Error: El valor introducido no es un valor permitido\")"
   ]
  },
  {
   "cell_type": "code",
   "execution_count": null,
   "id": "c2277146",
   "metadata": {},
   "outputs": [
    {
     "name": "stdout",
     "output_type": "stream",
     "text": [
      "[2, 5, 8, 2, 2, 5]\n"
     ]
    }
   ],
   "source": [
    "# 12. Genera una función que al recibir una frase devuelva una lista con la longitud de cada palabra. \n",
    "# Usa la función map()\n",
    "\n",
    "def medir_palabras (palabra):\n",
    "    return len(palabra)\n",
    "frase = \"El coche acerlero en la curva\"\n",
    "\n",
    " #  división de la frase en palabras\n",
    "palabras = frase.split()\n",
    " #  aplicación de la función a cada palabra usando map y conversión a lista\n",
    "resultado_map = list(map (medir_palabras, palabras))\n",
    "print(resultado_map)"
   ]
  },
  {
   "cell_type": "code",
   "execution_count": null,
   "id": "442edb79",
   "metadata": {},
   "outputs": [],
   "source": [
    "# 13. Genera una función la cual, para un conjunto de caracteres, devuelva una lista de tuplas con cada letra en mayúsculas y minúsculas. \n",
    "# Las letras no pueden estar repetidas .Usa la función map()\n",
    "\n",
    "\n",
    "string = \"hipodromo\"\n",
    " # eliminación de letras repetidas \n",
    "set_letras = set(string)\n",
    "\n",
    "def conversor (letra):\n",
    "    return (letra.upper(),letra.lower())\n",
    "\n",
    " # aplicación de la función a cada letra con map y conversión a lista\n",
    "resultado = map (conversor, set_letras)\n",
    "print (list(resultado))"
   ]
  },
  {
   "cell_type": "code",
   "execution_count": null,
   "id": "58c01652",
   "metadata": {},
   "outputs": [],
   "source": [
    "# 14.  Crea una función que retorne las palabras de una lista de palabras que comience con una letra en especifico. Usa la función filter()\n",
    "\n",
    "\n",
    "lista1 = [\"mercedes\", \"raqueta\", \"audi\", \"silla\", \"mesa\", \"marcador\", \"plato\"]\n",
    "\n",
    "\n",
    "def buscador_palabras_m(lista):\n",
    "     # función que verifica si la palabra empieza por \"m\"\n",
    "    def palabra_empieza_m (palabra):\n",
    "        return palabra [0] == \"m\"\n",
    "     # aplicación de filter y conversión a lista\n",
    "    return list(filter(palabra_empieza_m,lista))\n",
    "\n",
    "print (buscador_palabras_m(lista1))"
   ]
  },
  {
   "cell_type": "code",
   "execution_count": null,
   "id": "43510bfa",
   "metadata": {},
   "outputs": [],
   "source": [
    "# 15. Crea una función lambda que  sume 3 a cada número de una lista dada.\n",
    "\n",
    "lista = [1,2,3,4]\n",
    "\n",
    "# map aplica la función lambda a cada elemento de la lista \n",
    "resultado = list(map(lambda x:x+3,lista))\n",
    "print (resultado)"
   ]
  },
  {
   "cell_type": "code",
   "execution_count": null,
   "id": "c014dcff",
   "metadata": {},
   "outputs": [
    {
     "name": "stdout",
     "output_type": "stream",
     "text": [
      "['horizonte', 'estaba', 'lleno', 'nubes']\n"
     ]
    }
   ],
   "source": [
    "# 16. Escribe una función que tome una cadena de texto y un número entero n como parámetros y devuelva una lista de \n",
    "# todas las palabras que sean más largas que n. Usa la función filter ()\n",
    "\n",
    "\n",
    "def palabras_seleccionadas (cadena,n):\n",
    "    # separacion de la cadena en palabras\n",
    "    palabras = cadena.split()\n",
    "    # filtrado de solo las palablras con longitud superior a n\n",
    "    return list(filter(lambda palabra : len(palabra)>n, palabras))\n",
    "\n",
    "cadena_de_texto = \"El horizonte estaba lleno de nubes\"\n",
    "resultado = palabras_seleccionadas (cadena_de_texto, 4) \n",
    "print (resultado)"
   ]
  },
  {
   "cell_type": "code",
   "execution_count": 8,
   "id": "1c16e2c0",
   "metadata": {},
   "outputs": [
    {
     "name": "stdout",
     "output_type": "stream",
     "text": [
      "El resultado de convertir la lista es 572\n"
     ]
    }
   ],
   "source": [
    "# 17. Crea una función que tome una lista de dígitos y devuelva el número correspondiente. Por ejemplo,[5,7,2] \n",
    "# corresponde al número quinientos setenta y dos (572). Usa la función reduce()\n",
    "\n",
    "\n",
    "from functools import reduce\n",
    "\n",
    "def conversor_numero(lista):\n",
    "    # reduce aplica la función acumulando resultados\n",
    "    return reduce(lambda acumulado, digito : acumulado *10 + digito, lista)\n",
    "\n",
    "print (f\"El resultado de convertir la lista es {conversor_numero([5,7,2])}\")"
   ]
  },
  {
   "cell_type": "code",
   "execution_count": 9,
   "id": "066cd8d2",
   "metadata": {},
   "outputs": [
    {
     "name": "stdout",
     "output_type": "stream",
     "text": [
      "[{'nombre': 'Ana', 'edad': 22, 'calificacion': 90}]\n"
     ]
    }
   ],
   "source": [
    "# 18. Escribe un programa en Python que cree una lista de diccionarios que contenga información de estudiantes \n",
    "# (nombre, edad, calificación) y use la función filter para extraer a los estudiantes con una calificación mayor o igual a \n",
    "# 90. Usa la función filter()\n",
    "\n",
    "estudiantes = [{\"nombre\":\"Carlos\",\"edad\":24,\"calificacion\":85},\n",
    "                {\"nombre\":\"Emilio\",\"edad\":22,\"calificacion\":70},\n",
    "                {\"nombre\":\"Maria\",\"edad\":21,\"calificacion\":60},\n",
    "                {\"nombre\":\"Ana\",\"edad\":22,\"calificacion\":90},\n",
    "                {\"nombre\":\"Juan\",\"edad\":23,\"calificacion\":75}]\n",
    "# funcion que devuelve True si la calificación es >=90 \n",
    "def sobresale (estudiante):\n",
    "    return estudiante[\"calificacion\"]>=90\n",
    "# filter para extraer solo los estudiantes que sobresalen\n",
    "mejores_estudiantes= list(filter(sobresale, estudiantes))\n",
    "\n",
    "print(mejores_estudiantes)"
   ]
  },
  {
   "cell_type": "code",
   "execution_count": null,
   "id": "fd578b5c",
   "metadata": {},
   "outputs": [],
   "source": [
    "# 19. Crea una función lambda que filtre los números impares de una lista dada.\n",
    "\n",
    "numeros = [2,13,5,4,7,9,10,24]\n",
    "\n",
    "#lambda x: x%2!=0 devuelve True solo si x es impar\n",
    "impares = list (filter (lambda x: x%2!=0,numeros))\n",
    "\n",
    "print(impares)"
   ]
  },
  {
   "cell_type": "code",
   "execution_count": null,
   "id": "cbb35f21",
   "metadata": {},
   "outputs": [],
   "source": [
    "# 20.Para una lista con elementos tipo integer y string obtén una nueva lista sólo con los valores int. Usa la función filter()\n",
    "\n",
    "lista = [\"casa\", 45,\"edificio\",\"garage\", 37,3,5]\n",
    "# isinstance(x,int) verifica si x es un número entero\n",
    "lista_integers = list (filter(lambda x:isinstance(x,int), lista))\n",
    "\n",
    "print (lista_integers)"
   ]
  },
  {
   "cell_type": "code",
   "execution_count": null,
   "id": "8e301c5e",
   "metadata": {},
   "outputs": [],
   "source": [
    "# 21. Crea una función que calcule el cubo de un número dado mediante una función lambda\n",
    "\n",
    "\n",
    "numero_cubo = lambda x:x**3\n",
    "\n",
    "print (numero_cubo(3))"
   ]
  },
  {
   "cell_type": "code",
   "execution_count": null,
   "id": "19fa3819",
   "metadata": {},
   "outputs": [],
   "source": [
    "# 22. Dada una lista numérica, obtén el producto total de los valores de dicha lista.Usa la función reduce() .\n",
    "\n",
    "from functools import reduce\n",
    "\n",
    "lista_numeros = [ 2,3,2,1,5,2]\n",
    "\n",
    "# Reduce para aplicar la multiplicación acumulativa a todos los elementos\n",
    "\n",
    "resultado_reduce = reduce(lambda x,y:x*y,lista_numeros)\n",
    "\n",
    "print (resultado_reduce)"
   ]
  },
  {
   "cell_type": "code",
   "execution_count": null,
   "id": "4dae9e37",
   "metadata": {},
   "outputs": [],
   "source": [
    "# 23. Concatena una lista de palabras.Usa la función reduce() .\n",
    "\n",
    "from functools import reduce\n",
    "\n",
    "lista_palabras = [\"el\" , \"leopardo\" , \"estaba\" , \"descando\" , \"a\" , \"la\" , \"sombra\"]\n",
    "\n",
    "resultado_reduce = reduce (lambda x,y : x + \" \" + y, lista_palabras)\n",
    "\n",
    "print (resultado_reduce)"
   ]
  },
  {
   "cell_type": "code",
   "execution_count": null,
   "id": "56ad9e02",
   "metadata": {},
   "outputs": [],
   "source": [
    "# 24. Calcula la diferencia total en los valores de una lista. Usa la función reduce()\n",
    "#Calcula la diferencia total en los valores de una lista. Usa la función reduce()\n",
    "\n",
    "from functools import reduce\n",
    "\n",
    "lista_numeros = [10000 , 800 , 250 , 35, 8000, 15]\n",
    "# reduce va restando los elementos de la lista de dos en dos, de izquierda a derecha\n",
    "resultado_reduce = reduce (lambda x,y : x-y, lista_numeros)\n",
    "\n",
    "print (resultado_reduce)"
   ]
  },
  {
   "cell_type": "code",
   "execution_count": null,
   "id": "f94b2e88",
   "metadata": {},
   "outputs": [],
   "source": [
    "# 25. Crea una función que cuente el número de caracteres en una cadena de texto dada.\n",
    "\n",
    "# Crea una función que cuente el número de caracteres en una cadena de texto dada.\n",
    "\n",
    "def contador_caracteres (cadena_texto):\n",
    "    return len (cadena_texto)\n",
    "\n",
    "Accion_leopardo = \"El leopardo estaba descansando a la sombra\" \n",
    "\n",
    "print (contador_caracteres(Accion_leopardo))"
   ]
  },
  {
   "cell_type": "code",
   "execution_count": null,
   "id": "d9a558cc",
   "metadata": {},
   "outputs": [],
   "source": [
    "# 26. Crea una función lambda que calcule el resto de la división entre dos números dados.\n",
    "\n",
    "resto_division = lambda lista:lista [0]%lista[1]\n",
    "\n",
    "numeros_dados = [9,2]\n",
    "\n",
    "print (resto_division (numeros_dados))"
   ]
  },
  {
   "cell_type": "code",
   "execution_count": null,
   "id": "e7a4880a",
   "metadata": {},
   "outputs": [],
   "source": [
    "# 27. Crea una función que calcule el promedio de una lista de números.\n",
    "\n",
    "def calculo_promedio (lista):\n",
    "    \n",
    "      return sum (lista) / len (lista)\n",
    "\n",
    "lista1 = [2,3,4]\n",
    "\n",
    "print (calculo_promedio(lista1))"
   ]
  },
  {
   "cell_type": "code",
   "execution_count": null,
   "id": "520622b5",
   "metadata": {},
   "outputs": [],
   "source": [
    "# 28. Crea una función que busque y devuelva el primer elemento duplicado en una lista dada.\n",
    "\n",
    "def buscar_elemento_duplicado (lista):\n",
    "    elemetos_recorridos = []\n",
    "    for elemento in lista:\n",
    "        # for recorre cada elemento de la lista buscando duplicados\n",
    "        if elemento in  elemetos_recorridos:\n",
    "          return elemento\n",
    "        elemetos_recorridos.append(elemento)\n",
    "                      \n",
    "    return None\n",
    "\n",
    "lista1 = [25,4,15,23,4,6,15]    \n",
    "print (buscar_elemento_duplicado(lista1))"
   ]
  },
  {
   "cell_type": "code",
   "execution_count": 1,
   "id": "031daaea",
   "metadata": {},
   "outputs": [
    {
     "name": "stdout",
     "output_type": "stream",
     "text": [
      "#####6789\n"
     ]
    }
   ],
   "source": [
    "# 29. Crea una función que convierta una variable en una cadena de texto y enmascare todos los caracteres  con el \n",
    "#carácter '#', excepto los últimos cuatro.\n",
    "\n",
    "\n",
    "def ocultar_caracteres (variable):\n",
    "    # convesion a cadena con str\n",
    "    cadena = str(variable)\n",
    "    if len(cadena) <= 4:\n",
    "        return cadena\n",
    "    # ocultación de todos los caracteres excepto los cuatro últimos\n",
    "    return \"#\" * (len (cadena) -4) + cadena [-4:]\n",
    "\n",
    "variable1 = 123456789\n",
    "\n",
    "print (ocultar_caracteres(variable1))"
   ]
  },
  {
   "cell_type": "code",
   "execution_count": null,
   "id": "6b845c20",
   "metadata": {},
   "outputs": [],
   "source": [
    "# 30. Crea una función que determine si dos palabras son anagramas, es decir, si están formadas por las mismas letras \n",
    "# pero en diferente orden.\n",
    "\n",
    "def identificador_anagramas (palabra1, palabra2):\n",
    "    # comparación de palabras ordenando las letras en minúsculas\n",
    "    return  sorted (palabra1.lower()) == sorted (palabra2.lower())\n",
    "\n",
    "palabra1A = \"roma\"\n",
    "palabra2A = \"amor\"\n",
    "\n",
    "print(identificador_anagramas(palabra1A, palabra2A))"
   ]
  },
  {
   "cell_type": "code",
   "execution_count": null,
   "id": "362bc955",
   "metadata": {},
   "outputs": [],
   "source": [
    "# 31. Crea una función que solicite al usuario ingresar una lista de nombres y luego solicite un nombre para buscar en \n",
    "# esa lista. Si el nombre está en la lista, se imprime un mensaje indicando que fue encontrado, de lo contrario, se \n",
    "# lanza una excepción.\n",
    "\n",
    "peticion_lista_nombres = input(\"Introduce una lista de nombres separados por comas:\")\n",
    "lista_nombres = [nombre.strip() for nombre in peticion_lista_nombres.split(\",\")]\n",
    "\n",
    "peticion_nombre = input (\"Introduce un nombre para ver si esta en la lista:\").strip()\n",
    "# condición para verificar si el nombre está en la lista y lanza excepción si no lo está\n",
    "if peticion_nombre in lista_nombres:\n",
    "   print (f\"El nombre ha sido encontrado\")\n",
    "\n",
    "else:\n",
    "   \n",
    "   raise ValueError (\"El nombre no ha sido encontrado\")"
   ]
  },
  {
   "cell_type": "code",
   "execution_count": 2,
   "id": "9df5fb53",
   "metadata": {},
   "outputs": [
    {
     "name": "stdout",
     "output_type": "stream",
     "text": [
      "Alfonso Rodriguez trabaja como Abogado\n"
     ]
    }
   ],
   "source": [
    "# 32.Crea una función que tome un nombre completo y una lista de empleados, busque el nombre completo en la lista y \n",
    "# devuelve el puesto del empleado si está en la lista, de lo contrario, devuelve un mensaje indicando que la persona no trabaja aquí.\n",
    "\n",
    "\n",
    "def buscador_empleados(nombre_completo, lista_empleados):\n",
    "    # con el for recorremos cada tupla de la lista buscando el nombre   \n",
    "    for nombre, puesto in lista_empleados:\n",
    "        if nombre == nombre_completo:\n",
    "           return f\"{nombre} trabaja como {puesto}\"\n",
    "    return  \"Esta persona no trabaja aqui\"\n",
    "            \n",
    "\n",
    "\n",
    "nombre_completo = \"Alfonso Rodriguez\"\n",
    "lista_empleados = [(\"Ana Torres\", \"Contable\"),(\"Sara Navarro\",\"Ingeniera civil\"),(\"Alfonso Rodriguez\", \"Abogado\")]\n",
    "\n",
    "print (buscador_empleados(nombre_completo, lista_empleados))"
   ]
  },
  {
   "cell_type": "code",
   "execution_count": null,
   "id": "6c3a13db",
   "metadata": {},
   "outputs": [],
   "source": [
    "# 33. Crea una función lambda que sume elementos correspondientes de dos listas dadas.\n",
    "\n",
    "\n",
    "lista1 = [1,2,3]\n",
    "lista2 = [4,5,6]\n",
    "\n",
    "# introducimos map para aplicar la función lambda a los elementos de listas. Y list para convertir el resultado a lista\n",
    "suma_listas = list(map(lambda x, y: x+y, lista1, lista2))\n",
    "\n",
    "print (suma_listas)"
   ]
  },
  {
   "cell_type": "code",
   "execution_count": null,
   "id": "b2dc73cb",
   "metadata": {},
   "outputs": [],
   "source": [
    "# 34. Crea la clase Arbol , define un árbol genérico con un tronco y ramas como atributos. \n",
    "# Los métodos disponibles son: crecer_tronco , nueva_rama , crecer_ramas , quitar_rama e info_arbol. \n",
    "# El objetivo es implementar estos métodos para manipular la estructura del árbol.\n",
    "\n",
    "# Caso de uso:\n",
    "# 1. Crear un árbol.\n",
    "# 2. Hacer crecer el tronco del árbol una unidad.\n",
    "# 3. Añadir una nueva rama al árbol.\n",
    "# 4. Hacer crecer todas las ramas del árbol una unidad.\n",
    "# 5. Añadir dos nuevas ramas al árbol.\n",
    "# 6. Retirar la rama situada en la posición 2.\n",
    "# 7. Obtener información sobre el árbol.\n",
    "\n",
    "\n",
    "class Arbol:\n",
    "    def __init__(self):\n",
    "        self.tronco = 1\n",
    "        self.ramas = []\n",
    "\n",
    "    def crecer_tronco(self):\n",
    "        # aumenta la longitud del tronco en una unidad\n",
    "        self.tronco += 1\n",
    "\n",
    "    def nueva_rama(self):\n",
    "        # anade una rama nueva\n",
    "        self.ramas.append(1)\n",
    "\n",
    "    def crecer_ramas(self):\n",
    "\n",
    "        # incrementa todas las ramas en 1\n",
    "        self.ramas = [rama + 1 for rama in self.ramas]\n",
    "\n",
    "    def quitar_rama(self, posicion):\n",
    "        # elimina la rama que esta en la posición que se indica\n",
    "        if 0 <= posicion < len(self.ramas):\n",
    "            self.ramas.pop(posicion)\n",
    "        else:\n",
    "            print(\"Posición inválida\")\n",
    "\n",
    "    def info_arbol(self):\n",
    "        return {\n",
    "            \"longitud_tronco\": self.tronco,\n",
    "            \"numero_ramas\": len(self.ramas),\n",
    "            \"longitudes_ramas\": self.ramas\n",
    "        }\n",
    "mi_arbol = Arbol()\n",
    "mi_arbol.crecer_tronco()\n",
    "mi_arbol.nueva_rama()\n",
    "mi_arbol.crecer_ramas()\n",
    "mi_arbol.nueva_rama()\n",
    "mi_arbol.nueva_rama()\n",
    "mi_arbol.quitar_rama(2)\n",
    "print(mi_arbol.info_arbol())"
   ]
  },
  {
   "cell_type": "code",
   "execution_count": null,
   "id": "aeeec26f",
   "metadata": {},
   "outputs": [
    {
     "name": "stdout",
     "output_type": "stream",
     "text": [
      "La cantidad agregada es 20, dejando un saldo de 70\n",
      "Bob ha transferido 70 a Alicia\n",
      "Saldo de Bob:0\n",
      "Saldo de Alicia: 170\n",
      "Alicia ha retirado 50 de la cuenta corriente. Quedando un saldo actual de 120\n"
     ]
    }
   ],
   "source": [
    "# 35. Crea la clase UsuarioBanco ,representa a un usuario de un banco con su nombre, saldo y si tiene o no cuenta corriente. \n",
    "# Proporciona métodos para realizar operaciones como retirar dinero, transferir dinero desde otro usuario y agregar dinero al saldo.\n",
    " \n",
    "# Código a seguir:\n",
    "\n",
    "#  1. Inicializar un usuario con su nombre, saldo y si tiene o no cuenta corriente mediante True y False\n",
    "\n",
    "#  2.  Implementar el método retirar_dinero para retirar dinero del saldo del usuario. Lanzará un error en caso de no poder hacerse.\n",
    "\n",
    "#  3. Implementar el método transferir_dinero para realizar una transferencia desde otro usuario al usuario actual. Lanzará un error en caso de no poder hacerse.\n",
    " \n",
    "#  4. Implementar el método agregar_dinero para agregar dinero al saldo del usuario.\n",
    "\n",
    "\n",
    "#  Caso de uso:\n",
    "\n",
    "#  1. Crear dos usuarios: \"Alicia\" con saldo inicial de 100 y \"Bob\" con saldo inicial de 50, ambos con cuenta corriente.\n",
    "\n",
    "#  2. Agregar 20 unidades de saldo de \"Bob\".\n",
    "#  3. Hacer una transferencia de 80 unidades desde \"Bob\" a \"Alicia\".\n",
    "#  4. Retirar 50 unidades de saldo a \"Alicia\".\n",
    "\n",
    "\n",
    "class UsuarioBanco:\n",
    "    def __init__(self,nombre,saldo,cuenta_corriente):\n",
    "        # para iniciar un usuario con nombre, saldo y si tiene cuenta corriente.\n",
    "        self.nombre = nombre\n",
    "        self.saldo = saldo\n",
    "        self.cuenta_corriente = cuenta_corriente\n",
    "\n",
    "    def retirar_dinero(self, cantidad):\n",
    "        # Retiradad de dinero del saldo del usuario\n",
    "        if cantidad <=0 :\n",
    "            raise ValueError(\"La retirada de dinero no puede ser menor que cero\")\n",
    "        if cantidad >self.saldo:\n",
    "            raise ValueError(\"No hay dinero suficiente para poder ser retirado\")\n",
    "        self.saldo -= cantidad\n",
    "        print (f\"{self.nombre} ha retirado {cantidad} de la cuenta corriente. Quedando un saldo actual de {self.saldo}\")\n",
    "\n",
    "    def transferir_dinero(self, otro_usuario, cantidad):\n",
    "        # recibo de dinero desde otro usuario\n",
    "        if not isinstance(otro_usuario, UsuarioBanco):\n",
    "            raise TypError(\"UsuarioBanco no valido\")\n",
    "        if cantidad <=0:\n",
    "            raise ValueError(\"La cantidad a transferir debe ser mayor que cero\")\n",
    "        if cantidad > otro_usuario.saldo:\n",
    "            raise ValueError(f\"Saldo insuficiente para poder transferir la {cantidad}\")\n",
    "        # Resta de dinero al usuario que envía y suma al receptor\n",
    "        otro_usuario.saldo -= cantidad\n",
    "        self.saldo +=cantidad\n",
    "        print (f\"{otro_usuario.nombre} ha transferido {cantidad} a {self.nombre}\")\n",
    "        print (f\"Saldo de {otro_usuario.nombre}:{otro_usuario.saldo}\")\n",
    "        print (f\"Saldo de {self.nombre}: {self.saldo}\")\n",
    "\n",
    "    def agregar_dinero (self, cantidad):\n",
    "        # suma al saldo del usuario\n",
    "        if cantidad <=0:\n",
    "            raise ValueError(\"La cantidad debe ser mayor que cero\")\n",
    "        self.saldo +=cantidad\n",
    "        print (f\"La cantidad agregada es {cantidad}, dejando un saldo de {self.saldo}\")\n",
    "\n",
    "\n",
    "#Caso de uso\n",
    "\n",
    "# 1. Crear usuarios\n",
    "alicia = UsuarioBanco(\"Alicia\", 100, True)\n",
    "bob = UsuarioBanco(\"Bob\", 50, True)\n",
    "\n",
    "# 2. Bob agrega 20\n",
    "bob.agregar_dinero(20)  # Saldo Bob: 70\n",
    "\n",
    "# 3. Transferencia de 70 de Bob a Alicia\n",
    "# Nota: Se ha ajustado la transferencia de 80 a 70 porque Bob solo tiene 70.\n",
    "# Este ajuste permite continuar con el caso de uso sin que se produzca un error.\n",
    "alicia.transferir_dinero(bob, 70)\n",
    "\n",
    "# 4. Alicia retira 50\n",
    "alicia.retirar_dinero(50)\n"
   ]
  },
  {
   "cell_type": "code",
   "execution_count": 9,
   "id": "ceec29bb",
   "metadata": {},
   "outputs": [
    {
     "name": "stdout",
     "output_type": "stream",
     "text": [
      "{'el': 1, 'sol': 1, 'aparecio': 1, 'lentamente': 1, 'al': 1, 'amanecer': 1}\n",
      "El sol surgio lentamente al amanecer.\n",
      "El sol aparecio al amanecer.\n"
     ]
    }
   ],
   "source": [
    "# 37. Crea una función llamada procesar_texto que procesa un texto según la opción especificada: reemplazar_palabras , procesar_texto , contar_palabras , eliminar_palabra.\n",
    "# Estas opciones son otras funciones que tenemos que definir primero y llamar dentro de la función procesar_texto.\n",
    "\n",
    "# Código a seguir:\n",
    "\n",
    "# 1. Crear una función contar_palabras para contar el número de veces que aparece cada palabra en el texto. Tiene que devolver un diccionario.\n",
    "# 2. Crear una función reemplazar_palabras para remplazar una que devolver el texto con el remplazo de palabras.\n",
    "# 3. Crear una función palabra_original del texto por una palabra_nueva . Tiene eliminar_palabra para eliminar una palabra del texto. Tiene que devolver el texto con la palabra eliminada.\n",
    "# 4. Crear la función procesar_texto que tome un texto, una opción(entre \"contar\", \"reemplazar\", \"eliminar\") y un número de argumentos variable según la opción indicada.\n",
    "\n",
    " # Caso de uso:Comprueba el funcionamiento completo de la función procesar_texto\n",
    "\n",
    "#funcion contar palabras \n",
    "\n",
    "def contar_palabras (texto):\n",
    "    palabras = texto.split()\n",
    "    conteo = {}\n",
    "    for palabra in palabras:\n",
    "        palabra = palabra.strip(\".,;:!?¡¿()[]{}\\\"'\").lower()\n",
    "        if palabra !=\"\":\n",
    "            conteo[palabra] = conteo.get(palabra,0) + 1\n",
    "    return conteo\n",
    "\n",
    "#funcion reemplazar palabras\n",
    "\n",
    "def reemplazar_palabras(texto, palabra_original, palabra_nueva):\n",
    "    return texto.replace(palabra_original, palabra_nueva)\n",
    "\n",
    "#funcion eliminar palabra\n",
    "\n",
    "def eliminar_palabra(texto, palabra_eliminada):\n",
    "    palabras =  texto.split()\n",
    "    resultado = [palabra for palabra in palabras if palabra != palabra_eliminada]\n",
    "    return ' '.join(resultado)\n",
    "\n",
    "#funcion que procesa el texto dependiendo de la opcion:\n",
    "\n",
    "def procesar_texto (texto,opcion, *args):\n",
    "    if opcion == \"contar\":\n",
    "        return contar_palabras(texto)\n",
    "    elif opcion == \"reemplazar\":\n",
    "        if len(args) !=2:\n",
    "            return \"Error: Hacen falta dos argumentos para usar esta funcion\"\n",
    "        return reemplazar_palabras(texto, args[0],args[1])\n",
    "    elif opcion == \"eliminar\":\n",
    "        if len(args) != 1 :\n",
    "            return \"Error: Hace falta un argumento oara usar esta funcion\"\n",
    "        return eliminar_palabra(texto, args[0])\n",
    "    else:\n",
    "        return \"Opcion invalida\"\n",
    "    \n",
    "#ejemplo de uso\n",
    "\n",
    "texto = \"El sol aparecio lentamente al amanecer.\"\n",
    "print (procesar_texto(texto,\"contar\"))\n",
    "print (procesar_texto(texto,\"reemplazar\",\"aparecio\", \"surgio\"))\n",
    "print (procesar_texto(texto,\"eliminar\", \"lentamente\"))    "
   ]
  },
  {
   "cell_type": "code",
   "execution_count": 8,
   "id": "d7269365",
   "metadata": {},
   "outputs": [
    {
     "name": "stdout",
     "output_type": "stream",
     "text": [
      "Es dia\n"
     ]
    }
   ],
   "source": [
    "# 38. Genera un programa que nos diga si es de noche, de día o tarde según la hora proporcionada por el usuario.\n",
    "\n",
    "peticion_hora = input(\"Introduce la hora (0-23): \")\n",
    "\n",
    "# conversión del valor a número entero\n",
    "hora = int(peticion_hora)\n",
    "# introducción de condicional para saber si es noche, día o tarde\n",
    "if hora>=20 or hora<8:\n",
    "    print(\"Es de noche\")\n",
    "elif 8<= hora <12:\n",
    "    print(\"Es dia\")\n",
    "elif 12<=hora<20:\n",
    "    print(\"Es tarde\")\n",
    "else:\n",
    "    print(\"Hora no valida\")"
   ]
  },
  {
   "cell_type": "code",
   "execution_count": 7,
   "id": "ca96eec3",
   "metadata": {},
   "outputs": [
    {
     "name": "stdout",
     "output_type": "stream",
     "text": [
      "Bien\n"
     ]
    }
   ],
   "source": [
    "# 39.  Escribe un programa que determine qué calificación en texto tiene un alumno en base a su calificación numérica. \n",
    "\n",
    "# Las reglas de calificación son:\n",
    "\n",
    "# -  0 - 69 insuficiente\n",
    "# - 70 - 79 bien\n",
    "#  - 80 - 89 muy bien\n",
    "#  - 90 - 100 excelente\n",
    "\n",
    "# función que convierte calificación numérica a texto, siguiendo las condiciones\n",
    "def transformacion_calificacion (calificacion_numerica):\n",
    "    if 0<= calificacion_numerica <=69:\n",
    "        print (\"Insuficiente\")\n",
    "    elif 70<=calificacion_numerica<=79:\n",
    "        print (\"Bien\")\n",
    "    elif 80<=calificacion_numerica<=89:\n",
    "        print (\"Muy bien\")\n",
    "    elif 90<=calificacion_numerica<=100:\n",
    "        print (\"Excelente\")\n",
    "    else:\n",
    "        print (\"Calificacion no valida\")\n",
    "# petición a usuario de introducción de calificación numérica\n",
    "entrada = input (\"Introduce calificacion numerica (0-100):\")\n",
    "\n",
    "try:\n",
    "\n",
    "    # intento de conversion de entrada a número entero\n",
    "    calificacion = int (entrada)\n",
    "    # llamada a la función para mostrar la calificación en texto\n",
    "    transformacion_calificacion(calificacion)\n",
    "except ValueError:\n",
    "    # si el usuario no introduce un número válido se muestra el siguiente mensaje de error \n",
    "    print(\"Introduce un numero valido\")"
   ]
  },
  {
   "cell_type": "code",
   "execution_count": 6,
   "id": "92d12f94",
   "metadata": {},
   "outputs": [
    {
     "name": "stdout",
     "output_type": "stream",
     "text": [
      "10\n",
      "15.0\n",
      "50.26548245743669\n"
     ]
    }
   ],
   "source": [
    "# 40.  Escribe una función que tome dos parámetros:\n",
    "#     figura (una cadena que puede ser \"rectangulo\",\"circulo\" o \"triangulo\")\n",
    "#     datos (una tupla con los datos necesarios para calcular el area de la figura).\n",
    "\n",
    "\n",
    "#importación del \"math\" para el uso de pi\n",
    "\n",
    "import math\n",
    "\n",
    "def calculo_area (figura,datos):\n",
    "\n",
    "    # comprobación de que figura se ha indicado   \n",
    "    \n",
    "    if figura == \"rectangulo\":\n",
    "       # desempaquete de tupla en base y altura\n",
    "       base, altura = datos\n",
    "       # cálculo del área del rectángulo \n",
    "       return base*altura\n",
    "    \n",
    "    elif figura == \"triangulo\":\n",
    "        # desempaquete de tupla en base y altura\n",
    "        base, altura = datos\n",
    "        # cálculo del área del triángulo\n",
    "        return (base * altura) / 2\n",
    "    \n",
    "    elif figura == \"circulo\":\n",
    "        # desempaquete de tupla en radio, solo hay un dato\n",
    "        radio, = datos\n",
    "        # cálculo del área del círculo\n",
    "        return math.pi * (radio**2)\n",
    "    else:\n",
    "        # si la figura no coincide con ninguna de las indicadas\n",
    "        return \"Figura no valida\"\n",
    "    \n",
    "\n",
    "#casos de uso\n",
    "\n",
    "print(calculo_area(\"rectangulo\",(5,2)))\n",
    "print(calculo_area(\"triangulo\",(10,3)))\n",
    "print(calculo_area(\"circulo\",(4,)))"
   ]
  },
  {
   "cell_type": "code",
   "execution_count": 3,
   "id": "c90fdf88",
   "metadata": {},
   "outputs": [
    {
     "name": "stdout",
     "output_type": "stream",
     "text": [
      "Se aplico un descuento de 10.0. El precio final es 40.0\n"
     ]
    }
   ],
   "source": [
    "# 41. En este ejercicio, se te pedirá que escribas un programa en Python que utilice condicionales para determinar el \n",
    "# monto final de una compra en una tienda en línea, después de aplicar un descuento. El programa debe hacer lo \n",
    "# siguiente:\n",
    "\n",
    "# 1. Solicita al usuario que ingrese el precio original de un artículo.\n",
    "# 2. Pregunta al usuario si tiene un cupón de descuento (respuesta sí o no).\n",
    "# 3. Si el usuario responde que sí, solicita que ingrese el valor del cupón de descuento.\n",
    "# 4. Aplica el descuento al precio original del artículo, siempre y cuando el valor del cupón sea válido (es decir, mayor a cero). Por ejemplo, descuento de 15€. \n",
    "# 5. Muestra el precio final de la compra, teniendo en cuenta el descuento aplicado o sin él. \n",
    "# 6. Recuerda utilizar estructuras de control de flujo como if, elif y else para llevar a cabo estas acciones en tu programa de Python.\n",
    "\n",
    "peticion_precio_original = input(\"Ingrese el precio original del articulo\")\n",
    "\n",
    "\n",
    "try:\n",
    "\n",
    "    # conversión de l a entrada a float para manejar decimales\n",
    "    precio_original = float(peticion_precio_original)\n",
    "\n",
    "except ValueError:\n",
    "    # si la conversión falla el precio no es valido y finaliza el programa con \"exit\"\n",
    "    print(\"Precio no válido\")\n",
    "    exit()\n",
    "\n",
    "pregunta_cupon_descuento = input (\"Tiene cupon de descuento? Si/No\").strip().lower()\n",
    "\n",
    "if pregunta_cupon_descuento == \"si\" or pregunta_cupon_descuento ==\"sí\":\n",
    "    # si tiene cupón se pregunta por el valor del cupón\n",
    "    valor_cupon = input(\"ingresa el valor del cupon\")\n",
    "\n",
    "    try:\n",
    "        # conversión del valor del cupón a float \n",
    "        descuento = float(valor_cupon)\n",
    "        if descuento> 0:\n",
    "            # Aplicación del descuento al precio original \n",
    "            precio_final = precio_original - descuento\n",
    "            # Condición para que el precio final no sea negativo\n",
    "            if precio_final <0:\n",
    "                precio_final = 0\n",
    "            # Muestra de precio final con el descuento aplicado    \n",
    "            print(f\"Se aplico un descuento de {descuento}. El precio final es {precio_final}\")\n",
    "        else:\n",
    "            # Si el cupón es igual o menor que cero, no es válido\n",
    "            print (f\"El valor del cupon no es valido\")\n",
    "            print (f\"El precio final :{precio_original}\")\n",
    "    except ValueError:\n",
    "        # si el valor ingresado no es un número válido\n",
    "        print (f\"Valor del cupon no valido\")\n",
    "        print (f\"Precion final: {precio_original}\")  \n",
    "\n",
    "# si no tiene cupon \n",
    "elif pregunta_cupon_descuento == \"no\":\n",
    "     print(f\"No se aplico ningun descuento. Precion final: {precio_original}\")\n",
    "\n",
    "#respuesta no valida:\n",
    "\n",
    "# si la respuesta no es ni sí ni no\n",
    "else:\n",
    "     print (f\"Respuesta inválida\")  \n",
    "\n",
    "\n",
    "\n",
    "# caso de uso\n",
    "\n",
    "precio_original = 20\n",
    "cupon_descuento = 5 "
   ]
  }
 ],
 "metadata": {
  "kernelspec": {
   "display_name": "Python 3",
   "language": "python",
   "name": "python3"
  },
  "language_info": {
   "codemirror_mode": {
    "name": "ipython",
    "version": 3
   },
   "file_extension": ".py",
   "mimetype": "text/x-python",
   "name": "python",
   "nbconvert_exporter": "python",
   "pygments_lexer": "ipython3",
   "version": "3.13.1"
  }
 },
 "nbformat": 4,
 "nbformat_minor": 5
}
